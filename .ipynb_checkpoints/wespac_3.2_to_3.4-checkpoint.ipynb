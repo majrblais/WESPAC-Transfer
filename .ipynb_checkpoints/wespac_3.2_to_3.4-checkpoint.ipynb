{
 "cells": [
  {
   "cell_type": "code",
   "execution_count": 9,
   "id": "1043c46d-1601-4815-8e38-5581090dc33a",
   "metadata": {},
   "outputs": [
    {
     "name": "stdout",
     "output_type": "stream",
     "text": [
      "No value found in OF D1, skipping.\n",
      "No value found in OF D2, skipping.\n",
      "No value found in OF D3, skipping.\n",
      "Copying value Data from OF D4\n",
      "No value found in F D1, skipping.\n",
      "No value found in F D2, skipping.\n",
      "No value found in F D3, skipping.\n",
      "Copying value Data from F D4\n",
      "No value found in S F1, skipping.\n",
      "No value found in S F2, skipping.\n",
      "No value found in S F3, skipping.\n",
      "No value found in S F4, skipping.\n",
      "Copying value Data from S F5\n",
      "Values successfully copied from WESP-AC3.2.xlsx to wespac_3.4_filled_values.xlsx\n"
     ]
    }
   ],
   "source": [
    "import xlwings as xw\n",
    "\n",
    "def copy_wespac_values(old_file, new_file, output_file):\n",
    "    # Define the sheets and columns to copy from the old to the new file\n",
    "    sheets_to_copy = {\n",
    "        'OF': 'D',  # Copy from column D in 'OF'\n",
    "        'F': 'D',   # Copy from column D in 'F'\n",
    "        'S': 'F'    # Copy from column F in 'S'\n",
    "    }\n",
    "\n",
    "    # Open the old and new WESP-AC files using xlwings\n",
    "    app = xw.App(visible=False)\n",
    "    old_wespac = app.books.open(old_file)\n",
    "    new_wespac = app.books.open(new_file)\n",
    "\n",
    "    try:\n",
    "        # Iterate over the sheets to copy\n",
    "        for sheet, column in sheets_to_copy.items():\n",
    "            old_sheet = old_wespac.sheets[sheet]\n",
    "            new_sheet = new_wespac.sheets[sheet]\n",
    "\n",
    "            # Unprotect the sheet if it's protected\n",
    "            try:\n",
    "                new_sheet.api.Unprotect()\n",
    "            except Exception as e:\n",
    "                print(f\"Failed to unprotect the sheet '{sheet}': {e}\")\n",
    "\n",
    "            # Get the last used row in the column to avoid copying empty rows\n",
    "            last_row = old_sheet.range(f'{column}1').end('down').row\n",
    "\n",
    "            # Iterate through rows and copy data\n",
    "            for row in range(1, last_row + 1):\n",
    "                print(row)\n",
    "                old_value = old_sheet.range(f'{column}{row}').value\n",
    "\n",
    "                # Check if the old value is not None\n",
    "                if old_value is not None:\n",
    "                    print(f\"Copying value {old_value} from {sheet} {column}{row}\")  # Debugging line\n",
    "                    new_sheet.range(f'{column}{row}').value = old_value\n",
    "                else:\n",
    "                    print(f\"No value found in {sheet} {column}{row}, skipping.\")\n",
    "\n",
    "            # Protect the sheet again after modifying\n",
    "            new_sheet.api.Protect()\n",
    "\n",
    "        # Save the new WESP-AC file with the copied values\n",
    "        new_wespac.save(output_file)\n",
    "        print(f\"Values successfully copied from {old_file} to {output_file}\")\n",
    "\n",
    "    finally:\n",
    "        # Close both workbooks and quit the app\n",
    "        old_wespac.close()\n",
    "        new_wespac.close()\n",
    "        app.quit()\n",
    "\n",
    "# Define file paths\n",
    "old_wespac_file = 'WESP-AC3.2.xlsx'\n",
    "new_wespac_file = 'wespac_3.4.xlsx'\n",
    "output_wespac_file = 'wespac_3.4_filled_values.xlsx'\n",
    "\n",
    "# Run the function to copy values\n",
    "copy_wespac_values(old_wespac_file, new_wespac_file, output_wespac_file)\n"
   ]
  },
  {
   "cell_type": "code",
   "execution_count": null,
   "id": "a743b740-2456-482d-a38d-51ad4e921a77",
   "metadata": {},
   "outputs": [],
   "source": []
  }
 ],
 "metadata": {
  "kernelspec": {
   "display_name": "Python 3 (ipykernel)",
   "language": "python",
   "name": "python3"
  },
  "language_info": {
   "codemirror_mode": {
    "name": "ipython",
    "version": 3
   },
   "file_extension": ".py",
   "mimetype": "text/x-python",
   "name": "python",
   "nbconvert_exporter": "python",
   "pygments_lexer": "ipython3",
   "version": "3.8.19"
  }
 },
 "nbformat": 4,
 "nbformat_minor": 5
}
