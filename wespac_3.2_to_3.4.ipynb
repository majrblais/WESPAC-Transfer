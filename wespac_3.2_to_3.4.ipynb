{
 "cells": [
  {
   "cell_type": "code",
   "execution_count": 12,
   "id": "1043c46d-1601-4815-8e38-5581090dc33a",
   "metadata": {},
   "outputs": [
    {
     "name": "stdout",
     "output_type": "stream",
     "text": [
      "Values successfully copied from WESP-AC3.2.xlsx to wespac_3.4_filled_values.xlsx (Version: 3.2)\n"
     ]
    }
   ],
   "source": [
    "import xlwings as xw\n",
    "\n",
    "def copy_wespac_values(old_file, new_file, output_file, version='3.2'):\n",
    "    # Define the sheets, columns, and last rows to copy from the old to the new file\n",
    "    sheets_to_copy = {\n",
    "        'OF': {'column': 'D', 'last_row': 174},\n",
    "        'F': {'column': 'D', 'last_row': 345},\n",
    "        'S': {'column': 'F', 'last_row': 101}\n",
    "    }\n",
    "\n",
    "    # Open the old and new WESP-AC files using xlwings\n",
    "    app = xw.App(visible=False)\n",
    "    old_wespac = app.books.open(old_file)\n",
    "    new_wespac = app.books.open(new_file)\n",
    "\n",
    "    try:\n",
    "        for sheet, info in sheets_to_copy.items():\n",
    "            column = info['column']\n",
    "            last_row = info['last_row']\n",
    "            \n",
    "            old_sheet = old_wespac.sheets[sheet]\n",
    "            new_sheet = new_wespac.sheets[sheet]\n",
    "\n",
    "            # Unprotect the sheet if it's protected\n",
    "            try:\n",
    "                new_sheet.api.Unprotect()\n",
    "            except Exception as e:\n",
    "                print(f\"Failed to unprotect the sheet '{sheet}': {e}\")\n",
    "\n",
    "            # Handle version-specific adjustments\n",
    "            if version == '3.2' and sheet == 'OF':\n",
    "                # OF: Shift range for OF38 from 170-173 to 171-174\n",
    "                for row in range(1, 170):\n",
    "                    old_value = old_sheet.range(f'{column}{row}').value\n",
    "                    new_sheet.range(f'{column}{row}').value = old_value\n",
    "\n",
    "                # Shift the range for OF38 by one row\n",
    "                for row in range(170, 174):\n",
    "                    old_value = old_sheet.range(f'{column}{row}').value\n",
    "                    new_sheet.range(f'{column}{row+1}').value = old_value  # Shift to new range 171-174\n",
    "\n",
    "            elif version == '3.2' and sheet == 'F':\n",
    "                # F: Skip row 345 (F68) as it's new in 3.4\n",
    "                for row in range(1, 345):\n",
    "                    if row == 345:\n",
    "                        continue  # Skip F68 (345)\n",
    "                    old_value = old_sheet.range(f'{column}{row}').value\n",
    "                    new_sheet.range(f'{column}{row}').value = old_value\n",
    "\n",
    "            else:\n",
    "                # For other versions or sheets where no specific modification is needed\n",
    "                for row in range(1, last_row + 1):\n",
    "                    old_value = old_sheet.range(f'{column}{row}').value\n",
    "                    if old_value is not None:\n",
    "                        new_sheet.range(f'{column}{row}').value = old_value\n",
    "\n",
    "            # Protect the sheet again after modifying\n",
    "            new_sheet.api.Protect()\n",
    "\n",
    "        # Save the new WESP-AC file with the copied values\n",
    "        new_wespac.save(output_file)\n",
    "        print(f\"Values successfully copied from {old_file} to {output_file} (Version: {version})\")\n",
    "\n",
    "    finally:\n",
    "        # Close both workbooks and quit the app\n",
    "        old_wespac.close()\n",
    "        new_wespac.close()\n",
    "        app.quit()\n",
    "\n",
    "# Define file paths\n",
    "old_wespac_file = 'WESP-AC3.2.xlsx'\n",
    "new_wespac_file = 'wespac_3.4.xlsx'\n",
    "output_wespac_file = 'wespac_3.4_filled_values.xlsx'\n",
    "\n",
    "# Run the function to copy values, specifying version 3.2\n",
    "copy_wespac_values(old_wespac_file, new_wespac_file, output_wespac_file, version='3.2')\n"
   ]
  }
 ],
 "metadata": {
  "kernelspec": {
   "display_name": "Python 3 (ipykernel)",
   "language": "python",
   "name": "python3"
  },
  "language_info": {
   "codemirror_mode": {
    "name": "ipython",
    "version": 3
   },
   "file_extension": ".py",
   "mimetype": "text/x-python",
   "name": "python",
   "nbconvert_exporter": "python",
   "pygments_lexer": "ipython3",
   "version": "3.8.19"
  }
 },
 "nbformat": 4,
 "nbformat_minor": 5
}
